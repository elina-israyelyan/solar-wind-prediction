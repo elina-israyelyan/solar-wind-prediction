{
 "cells": [
  {
   "cell_type": "code",
   "execution_count": 1,
   "id": "a63a92a8-2934-4920-8338-4ddbc9031d85",
   "metadata": {},
   "outputs": [
    {
     "name": "stderr",
     "output_type": "stream",
     "text": [
      "<frozen importlib._bootstrap>:219: RuntimeWarning: scipy._lib.messagestream.MessageStream size changed, may indicate binary incompatibility. Expected 56 from C header, got 64 from PyObject\n"
     ]
    }
   ],
   "source": [
    "from statsmodels.tsa.stattools import adfuller\n",
    "import matplotlib.pyplot as plt\n",
    "import pandas as pd\n",
    "import statsmodels.api as sm\n",
    "from statsmodels.graphics.tsaplots import plot_pacf\n",
    "from statsmodels.graphics.tsaplots import plot_acf\n",
    "from statsmodels.tsa.statespace.sarimax import SARIMAX\n",
    "from statsmodels.tsa.holtwinters import ExponentialSmoothing\n",
    "from statsmodels.tsa.stattools import adfuller\n",
    "import matplotlib.pyplot as plt\n",
    "from tqdm import tqdm_notebook\n",
    "import numpy as np\n",
    "import pmdarima as pm\n",
    "import xarray as xr\n",
    "import pathlib\n",
    "from sklearn.preprocessing import StandardScaler\n",
    "import tensorflow.keras as keras\n",
    "import tensorflow as tf\n",
    "from sklearn.neural_network import MLPRegressor\n",
    "from sklearn.model_selection import train_test_split, GridSearchCV\n"
   ]
  },
  {
   "cell_type": "markdown",
   "id": "0dec1037",
   "metadata": {},
   "source": [
    "## Data Transformation"
   ]
  },
  {
   "cell_type": "code",
   "execution_count": 2,
   "id": "d31c037e-d54c-46fa-b0c3-797becd29b85",
   "metadata": {},
   "outputs": [],
   "source": [
    "data = pd.read_csv(\"../data/240k_full_data_proton_speed.csv\")"
   ]
  },
  {
   "cell_type": "code",
   "execution_count": 3,
   "id": "18ebd7b1-f211-4510-9eec-d393ce082d7d",
   "metadata": {},
   "outputs": [],
   "source": [
    "data[\"time\"]=pd.to_datetime(data[\"time\"])"
   ]
  },
  {
   "cell_type": "code",
   "execution_count": 4,
   "id": "4f980b51-797f-4d5c-8ab7-58085cab451a",
   "metadata": {},
   "outputs": [],
   "source": [
    "data.set_index(\"time\", inplace=True)"
   ]
  },
  {
   "cell_type": "code",
   "execution_count": 5,
   "id": "73d5f602-ade2-49a1-b171-7d93f8a03fc6",
   "metadata": {},
   "outputs": [],
   "source": [
    "data.interpolate(inplace=True) # filling none values with values of nearest points\n"
   ]
  },
  {
   "cell_type": "code",
   "execution_count": 6,
   "id": "97e562a1",
   "metadata": {},
   "outputs": [],
   "source": [
    "data = data[['bt', 'bx_gse',\n",
    "       'by_gse', 'bz_gse', 'theta_gse', 'phi_gse', 'bx_gsm', 'by_gsm',\n",
    "       'bz_gsm', 'theta_gsm', 'phi_gsm',\"proton_speed\"]] # taking only relevant features "
   ]
  },
  {
   "cell_type": "code",
   "execution_count": 21,
   "id": "6be47faf",
   "metadata": {},
   "outputs": [],
   "source": [
    "X = data.drop(\"proton_speed\", axis=1)\n",
    "y = data[\"proton_speed\"]"
   ]
  },
  {
   "cell_type": "code",
   "execution_count": 7,
   "id": "33d14adb-3c3c-499f-b007-2a10b4a4cf58",
   "metadata": {},
   "outputs": [],
   "source": [
    "X_train, X_test, y_train, y_test = train_test_split(X, y, test_size=0.1)"
   ]
  },
  {
   "cell_type": "code",
   "execution_count": 8,
   "id": "bf7f9893",
   "metadata": {},
   "outputs": [],
   "source": [
    "scaler = StandardScaler()"
   ]
  },
  {
   "cell_type": "code",
   "execution_count": 9,
   "id": "0fa96bf0",
   "metadata": {},
   "outputs": [],
   "source": [
    "X_train = scaler.fit_transform(X_train)\n",
    "X_test = scaler.transform(X_test)"
   ]
  },
  {
   "cell_type": "code",
   "execution_count": 10,
   "id": "839ad48b",
   "metadata": {},
   "outputs": [],
   "source": [
    "\n",
    "#convert the pandas object to a tensor\n",
    "X_train = tf.convert_to_tensor(X_train)\n",
    "\n",
    "X_test = tf.convert_to_tensor(X_test)\n"
   ]
  },
  {
   "cell_type": "markdown",
   "id": "da166ee5",
   "metadata": {},
   "source": [
    "## Model "
   ]
  },
  {
   "cell_type": "code",
   "execution_count": 77,
   "id": "1d63bfa7-ee6e-4514-941e-1b1bc3eae530",
   "metadata": {},
   "outputs": [],
   "source": [
    "model = keras.Sequential()\n",
    "model.add(keras.layers.Input(shape=(11)))\n",
    "model.add(tf.keras.layers.Normalization(axis=-1))\n",
    "model.add(keras.layers.Dense(16, activation=\"relu\"))\n",
    "model.add(keras.layers.Dense(32, activation='relu'))\n",
    "model.add(keras.layers.Dense(16, activation='relu'))\n",
    "model.add(keras.layers.Dense(8, activation=\"relu\"))\n",
    "model.add(keras.layers.Dense(1,activation=\"relu\"))\n",
    "\n",
    "model.compile(optimizer=tf.keras.optimizers.Adam(learning_rate=1e-3), loss=\"mape\")\n"
   ]
  },
  {
   "cell_type": "code",
   "execution_count": 78,
   "id": "956c9d10-861d-4b24-9e54-5158ae852543",
   "metadata": {
    "scrolled": true,
    "tags": []
   },
   "outputs": [
    {
     "name": "stdout",
     "output_type": "stream",
     "text": [
      "Epoch 1/200\n",
      "6764/6764 [==============================] - 6s 783us/step - loss: 16.9560 - val_loss: 14.4469\n",
      "Epoch 2/200\n",
      "6764/6764 [==============================] - 5s 804us/step - loss: 14.3037 - val_loss: 14.2137\n",
      "Epoch 3/200\n",
      "6764/6764 [==============================] - 5s 762us/step - loss: 14.1256 - val_loss: 14.0505\n",
      "Epoch 4/200\n",
      "6764/6764 [==============================] - 5s 767us/step - loss: 14.0132 - val_loss: 14.0231\n",
      "Epoch 5/200\n",
      "6764/6764 [==============================] - 5s 768us/step - loss: 13.9474 - val_loss: 13.9081\n",
      "Epoch 6/200\n",
      "6764/6764 [==============================] - 5s 753us/step - loss: 13.8887 - val_loss: 13.9085\n",
      "Epoch 7/200\n",
      "6764/6764 [==============================] - 5s 779us/step - loss: 13.8351 - val_loss: 13.8526\n",
      "Epoch 8/200\n",
      "6764/6764 [==============================] - 5s 800us/step - loss: 13.8018 - val_loss: 13.8773\n",
      "Epoch 9/200\n",
      "6764/6764 [==============================] - 5s 790us/step - loss: 13.7731 - val_loss: 13.8796\n",
      "Epoch 10/200\n",
      "6764/6764 [==============================] - 5s 810us/step - loss: 13.7372 - val_loss: 13.7925\n",
      "Epoch 11/200\n",
      "6764/6764 [==============================] - 5s 758us/step - loss: 13.7100 - val_loss: 13.7909\n",
      "Epoch 12/200\n",
      "6764/6764 [==============================] - 5s 755us/step - loss: 13.6813 - val_loss: 13.9858\n",
      "Epoch 13/200\n",
      "6764/6764 [==============================] - 5s 807us/step - loss: 13.6595 - val_loss: 13.7353\n",
      "Epoch 14/200\n",
      "6764/6764 [==============================] - 5s 806us/step - loss: 13.6426 - val_loss: 13.6973\n",
      "Epoch 15/200\n",
      "6764/6764 [==============================] - 5s 796us/step - loss: 13.6323 - val_loss: 13.7894\n",
      "Epoch 16/200\n",
      "6764/6764 [==============================] - 5s 759us/step - loss: 13.6136 - val_loss: 13.7152\n",
      "Epoch 17/200\n",
      "6764/6764 [==============================] - 5s 743us/step - loss: 13.6041 - val_loss: 13.7004\n",
      "Epoch 18/200\n",
      "6764/6764 [==============================] - 5s 742us/step - loss: 13.5908 - val_loss: 13.6943\n",
      "Epoch 19/200\n",
      "6764/6764 [==============================] - 6s 821us/step - loss: 13.5699 - val_loss: 13.6612\n",
      "Epoch 20/200\n",
      "6764/6764 [==============================] - 5s 784us/step - loss: 13.5555 - val_loss: 13.7887\n",
      "Epoch 21/200\n",
      "6764/6764 [==============================] - 5s 760us/step - loss: 13.5400 - val_loss: 13.5673\n",
      "Epoch 22/200\n",
      "6764/6764 [==============================] - 5s 758us/step - loss: 13.5343 - val_loss: 13.6039\n",
      "Epoch 23/200\n",
      "6764/6764 [==============================] - 5s 751us/step - loss: 13.5164 - val_loss: 13.5876\n",
      "Epoch 24/200\n",
      "6764/6764 [==============================] - 5s 761us/step - loss: 13.5100 - val_loss: 13.6290\n",
      "Epoch 25/200\n",
      "6764/6764 [==============================] - 6s 816us/step - loss: 13.5039 - val_loss: 13.5471\n",
      "Epoch 26/200\n",
      "6764/6764 [==============================] - 5s 761us/step - loss: 13.4966 - val_loss: 13.6015\n",
      "Epoch 27/200\n",
      "6764/6764 [==============================] - 5s 757us/step - loss: 13.4878 - val_loss: 13.5508\n",
      "Epoch 28/200\n",
      "6764/6764 [==============================] - 5s 756us/step - loss: 13.4758 - val_loss: 13.5364\n",
      "Epoch 29/200\n",
      "6764/6764 [==============================] - 5s 751us/step - loss: 13.4620 - val_loss: 13.6011\n",
      "Epoch 30/200\n",
      "6764/6764 [==============================] - 5s 765us/step - loss: 13.4430 - val_loss: 13.6183\n",
      "Epoch 31/200\n",
      "6764/6764 [==============================] - 5s 804us/step - loss: 13.4379 - val_loss: 13.5278\n",
      "Epoch 32/200\n",
      "6764/6764 [==============================] - 5s 756us/step - loss: 13.4246 - val_loss: 13.5195\n",
      "Epoch 33/200\n",
      "6764/6764 [==============================] - 5s 753us/step - loss: 13.4125 - val_loss: 13.5045\n",
      "Epoch 34/200\n",
      "6764/6764 [==============================] - 5s 743us/step - loss: 13.4036 - val_loss: 13.5070\n",
      "Epoch 35/200\n",
      "6764/6764 [==============================] - 5s 748us/step - loss: 13.3867 - val_loss: 13.4733\n",
      "Epoch 36/200\n",
      "6764/6764 [==============================] - 5s 768us/step - loss: 13.3753 - val_loss: 13.5378\n",
      "Epoch 37/200\n",
      "6764/6764 [==============================] - 5s 801us/step - loss: 13.3647 - val_loss: 13.4511\n",
      "Epoch 38/200\n",
      "6764/6764 [==============================] - 5s 755us/step - loss: 13.3488 - val_loss: 13.4336\n",
      "Epoch 39/200\n",
      "6764/6764 [==============================] - 5s 759us/step - loss: 13.3430 - val_loss: 13.5919\n",
      "Epoch 40/200\n",
      "6764/6764 [==============================] - 5s 747us/step - loss: 13.3459 - val_loss: 13.4496\n",
      "Epoch 41/200\n",
      "6764/6764 [==============================] - 5s 751us/step - loss: 13.3371 - val_loss: 13.4202\n",
      "Epoch 42/200\n",
      "6764/6764 [==============================] - 5s 784us/step - loss: 13.3235 - val_loss: 13.4129\n",
      "Epoch 43/200\n",
      "6764/6764 [==============================] - 5s 811us/step - loss: 13.3175 - val_loss: 13.3747\n",
      "Epoch 44/200\n",
      "6764/6764 [==============================] - 5s 783us/step - loss: 13.3138 - val_loss: 13.5306\n",
      "Epoch 45/200\n",
      "6764/6764 [==============================] - 5s 772us/step - loss: 13.3071 - val_loss: 13.4412\n",
      "Epoch 46/200\n",
      "6764/6764 [==============================] - 5s 769us/step - loss: 13.2960 - val_loss: 13.3882\n",
      "Epoch 47/200\n",
      "6764/6764 [==============================] - 5s 776us/step - loss: 13.2856 - val_loss: 13.4662\n",
      "Epoch 48/200\n",
      "6764/6764 [==============================] - 5s 803us/step - loss: 13.2837 - val_loss: 13.3498\n",
      "Epoch 49/200\n",
      "6764/6764 [==============================] - 5s 804us/step - loss: 13.2747 - val_loss: 13.3208\n",
      "Epoch 50/200\n",
      "6764/6764 [==============================] - 5s 774us/step - loss: 13.2677 - val_loss: 13.4458\n",
      "Epoch 51/200\n",
      "6764/6764 [==============================] - 5s 787us/step - loss: 13.2561 - val_loss: 13.3196\n",
      "Epoch 52/200\n",
      "6764/6764 [==============================] - 5s 778us/step - loss: 13.2460 - val_loss: 13.3427\n",
      "Epoch 53/200\n",
      "6764/6764 [==============================] - 5s 781us/step - loss: 13.2360 - val_loss: 13.3038\n",
      "Epoch 54/200\n",
      "6764/6764 [==============================] - 6s 816us/step - loss: 13.2255 - val_loss: 13.3111\n",
      "Epoch 55/200\n",
      "6764/6764 [==============================] - 5s 792us/step - loss: 13.2186 - val_loss: 13.3216\n",
      "Epoch 56/200\n",
      "6764/6764 [==============================] - 5s 770us/step - loss: 13.2176 - val_loss: 13.3538\n",
      "Epoch 57/200\n",
      "6764/6764 [==============================] - 5s 767us/step - loss: 13.2142 - val_loss: 13.3775\n",
      "Epoch 58/200\n",
      "6764/6764 [==============================] - 5s 768us/step - loss: 13.2116 - val_loss: 13.3231\n",
      "Epoch 59/200\n",
      "6764/6764 [==============================] - 5s 770us/step - loss: 13.2003 - val_loss: 13.3021\n",
      "Epoch 60/200\n",
      "6764/6764 [==============================] - 6s 826us/step - loss: 13.1944 - val_loss: 13.3244\n",
      "Epoch 61/200\n",
      "6764/6764 [==============================] - 5s 778us/step - loss: 13.1901 - val_loss: 13.3517\n",
      "Epoch 62/200\n",
      "6764/6764 [==============================] - 5s 777us/step - loss: 13.1918 - val_loss: 13.3082\n",
      "Epoch 63/200\n",
      "6764/6764 [==============================] - 5s 765us/step - loss: 13.1823 - val_loss: 13.2965\n",
      "Epoch 64/200\n",
      "6764/6764 [==============================] - 5s 775us/step - loss: 13.1759 - val_loss: 13.2555\n",
      "Epoch 65/200\n",
      "6764/6764 [==============================] - 5s 778us/step - loss: 13.1731 - val_loss: 13.2565\n",
      "Epoch 66/200\n",
      "6764/6764 [==============================] - 6s 814us/step - loss: 13.1635 - val_loss: 13.2874\n",
      "Epoch 67/200\n",
      "6764/6764 [==============================] - 5s 782us/step - loss: 13.1590 - val_loss: 13.2304\n",
      "Epoch 68/200\n",
      "6764/6764 [==============================] - 5s 777us/step - loss: 13.1434 - val_loss: 13.2374\n",
      "Epoch 69/200\n",
      "6764/6764 [==============================] - 5s 768us/step - loss: 13.1394 - val_loss: 13.2413\n",
      "Epoch 70/200\n",
      "6764/6764 [==============================] - 5s 769us/step - loss: 13.1325 - val_loss: 13.2294\n",
      "Epoch 71/200\n",
      "6764/6764 [==============================] - 5s 792us/step - loss: 13.1274 - val_loss: 13.2897\n",
      "Epoch 72/200\n",
      "6764/6764 [==============================] - 6s 813us/step - loss: 13.1202 - val_loss: 13.2459\n",
      "Epoch 73/200\n",
      "6764/6764 [==============================] - 5s 775us/step - loss: 13.1117 - val_loss: 13.4264\n",
      "Epoch 74/200\n",
      "6764/6764 [==============================] - 5s 769us/step - loss: 13.1085 - val_loss: 13.1870\n",
      "Epoch 75/200\n",
      "6764/6764 [==============================] - 5s 766us/step - loss: 13.0974 - val_loss: 13.2544\n",
      "Epoch 76/200\n",
      "6764/6764 [==============================] - 5s 768us/step - loss: 13.0931 - val_loss: 13.2035\n"
     ]
    },
    {
     "name": "stdout",
     "output_type": "stream",
     "text": [
      "Epoch 77/200\n",
      "6764/6764 [==============================] - 5s 803us/step - loss: 13.0949 - val_loss: 13.1864\n",
      "Epoch 78/200\n",
      "6764/6764 [==============================] - 5s 793us/step - loss: 13.0858 - val_loss: 13.2729\n",
      "Epoch 79/200\n",
      "6764/6764 [==============================] - 5s 777us/step - loss: 13.0832 - val_loss: 13.1842\n",
      "Epoch 80/200\n",
      "6764/6764 [==============================] - 5s 765us/step - loss: 13.0750 - val_loss: 13.1284\n",
      "Epoch 81/200\n",
      "6764/6764 [==============================] - 5s 771us/step - loss: 13.0691 - val_loss: 13.1157\n",
      "Epoch 82/200\n",
      "6764/6764 [==============================] - 5s 768us/step - loss: 13.0673 - val_loss: 13.1829\n",
      "Epoch 83/200\n",
      "6764/6764 [==============================] - 6s 828us/step - loss: 13.0682 - val_loss: 13.2758\n",
      "Epoch 84/200\n",
      "6764/6764 [==============================] - 5s 794us/step - loss: 13.0553 - val_loss: 13.2459\n",
      "Epoch 85/200\n",
      "6764/6764 [==============================] - 5s 798us/step - loss: 13.0521 - val_loss: 13.1423\n",
      "Epoch 86/200\n",
      "6764/6764 [==============================] - 5s 780us/step - loss: 13.0472 - val_loss: 13.1509\n",
      "Epoch 87/200\n",
      "6764/6764 [==============================] - 5s 767us/step - loss: 13.0520 - val_loss: 13.1540\n",
      "Epoch 88/200\n",
      "6764/6764 [==============================] - 5s 756us/step - loss: 13.0488 - val_loss: 13.1265\n",
      "Epoch 89/200\n",
      "6764/6764 [==============================] - 5s 795us/step - loss: 13.0454 - val_loss: 13.1350\n",
      "Epoch 90/200\n",
      "6764/6764 [==============================] - 5s 756us/step - loss: 13.0333 - val_loss: 13.2094\n",
      "Epoch 91/200\n",
      "6764/6764 [==============================] - 5s 743us/step - loss: 13.0347 - val_loss: 13.1044\n",
      "Epoch 92/200\n",
      "6764/6764 [==============================] - 5s 741us/step - loss: 13.0310 - val_loss: 13.2103\n",
      "Epoch 93/200\n",
      "6764/6764 [==============================] - 5s 754us/step - loss: 13.0274 - val_loss: 13.1126\n",
      "Epoch 94/200\n",
      "6764/6764 [==============================] - 5s 751us/step - loss: 13.0228 - val_loss: 13.1103\n",
      "Epoch 95/200\n",
      "6764/6764 [==============================] - 5s 793us/step - loss: 13.0201 - val_loss: 13.1712\n",
      "Epoch 96/200\n",
      "6764/6764 [==============================] - 5s 759us/step - loss: 13.0170 - val_loss: 13.1141\n",
      "Epoch 97/200\n",
      "6764/6764 [==============================] - 5s 747us/step - loss: 13.0169 - val_loss: 13.1046\n",
      "Epoch 98/200\n",
      "6764/6764 [==============================] - 5s 740us/step - loss: 13.0125 - val_loss: 13.1230\n",
      "Epoch 99/200\n",
      "6764/6764 [==============================] - 5s 747us/step - loss: 13.0071 - val_loss: 13.0969\n",
      "Epoch 100/200\n",
      "6764/6764 [==============================] - 5s 756us/step - loss: 13.0028 - val_loss: 13.2261\n",
      "Epoch 101/200\n",
      "6764/6764 [==============================] - 5s 797us/step - loss: 13.0026 - val_loss: 13.0967\n",
      "Epoch 102/200\n",
      "6764/6764 [==============================] - 5s 761us/step - loss: 12.9938 - val_loss: 13.1784\n",
      "Epoch 103/200\n",
      "6764/6764 [==============================] - 5s 756us/step - loss: 12.9954 - val_loss: 13.0983\n",
      "Epoch 104/200\n",
      "6764/6764 [==============================] - 5s 754us/step - loss: 12.9883 - val_loss: 13.1555\n",
      "Epoch 105/200\n",
      "6764/6764 [==============================] - 5s 764us/step - loss: 12.9904 - val_loss: 13.1036\n",
      "Epoch 106/200\n",
      "6764/6764 [==============================] - 5s 772us/step - loss: 12.9816 - val_loss: 13.2237\n",
      "Epoch 107/200\n",
      "6764/6764 [==============================] - 5s 795us/step - loss: 12.9738 - val_loss: 13.0402\n",
      "Epoch 108/200\n",
      "6764/6764 [==============================] - 5s 788us/step - loss: 12.9787 - val_loss: 13.1577\n",
      "Epoch 109/200\n",
      "6764/6764 [==============================] - 5s 752us/step - loss: 12.9705 - val_loss: 13.0755\n",
      "Epoch 110/200\n",
      "6764/6764 [==============================] - 5s 746us/step - loss: 12.9681 - val_loss: 13.0173\n",
      "Epoch 111/200\n",
      "6764/6764 [==============================] - 5s 747us/step - loss: 12.9666 - val_loss: 13.0150\n",
      "Epoch 112/200\n",
      "6764/6764 [==============================] - 5s 773us/step - loss: 12.9480 - val_loss: 13.0697\n",
      "Epoch 113/200\n",
      "6764/6764 [==============================] - 5s 785us/step - loss: 12.9456 - val_loss: 13.0230\n",
      "Epoch 114/200\n",
      "6764/6764 [==============================] - 5s 765us/step - loss: 12.9396 - val_loss: 13.2241\n",
      "Epoch 115/200\n",
      "6764/6764 [==============================] - 5s 745us/step - loss: 12.9411 - val_loss: 13.2229\n",
      "Epoch 116/200\n",
      "6764/6764 [==============================] - 5s 754us/step - loss: 12.9218 - val_loss: 13.0213\n",
      "Epoch 117/200\n",
      "6764/6764 [==============================] - 5s 747us/step - loss: 12.9181 - val_loss: 12.9877\n",
      "Epoch 118/200\n",
      "6764/6764 [==============================] - 5s 777us/step - loss: 12.9162 - val_loss: 12.9972\n",
      "Epoch 119/200\n",
      "6764/6764 [==============================] - 5s 791us/step - loss: 12.9047 - val_loss: 13.0326\n",
      "Epoch 120/200\n",
      "6764/6764 [==============================] - 5s 755us/step - loss: 12.9010 - val_loss: 12.9951\n",
      "Epoch 121/200\n",
      "6764/6764 [==============================] - 5s 749us/step - loss: 12.8941 - val_loss: 12.9540\n",
      "Epoch 122/200\n",
      "6764/6764 [==============================] - 5s 754us/step - loss: 12.8836 - val_loss: 12.9546\n",
      "Epoch 123/200\n",
      "6764/6764 [==============================] - 5s 754us/step - loss: 12.8765 - val_loss: 12.9636\n",
      "Epoch 124/200\n",
      "6764/6764 [==============================] - 5s 791us/step - loss: 12.8691 - val_loss: 12.9840\n",
      "Epoch 125/200\n",
      "6764/6764 [==============================] - 5s 799us/step - loss: 12.8642 - val_loss: 12.9563\n",
      "Epoch 126/200\n",
      "6764/6764 [==============================] - 5s 792us/step - loss: 12.8611 - val_loss: 13.0843\n",
      "Epoch 127/200\n",
      "6764/6764 [==============================] - 5s 758us/step - loss: 12.8526 - val_loss: 12.9284\n",
      "Epoch 128/200\n",
      "6764/6764 [==============================] - 5s 764us/step - loss: 12.8534 - val_loss: 12.9502\n",
      "Epoch 129/200\n",
      "6764/6764 [==============================] - 5s 759us/step - loss: 12.8435 - val_loss: 12.9802\n",
      "Epoch 130/200\n",
      "6764/6764 [==============================] - 5s 802us/step - loss: 12.8393 - val_loss: 12.9400\n",
      "Epoch 131/200\n",
      "6764/6764 [==============================] - 5s 809us/step - loss: 12.8347 - val_loss: 13.0563\n",
      "Epoch 132/200\n",
      "6764/6764 [==============================] - 5s 764us/step - loss: 12.8261 - val_loss: 13.1241\n",
      "Epoch 133/200\n",
      "6764/6764 [==============================] - 5s 754us/step - loss: 12.8259 - val_loss: 12.8820\n",
      "Epoch 134/200\n",
      "6764/6764 [==============================] - 5s 750us/step - loss: 12.8147 - val_loss: 12.9039\n",
      "Epoch 135/200\n",
      "6764/6764 [==============================] - 5s 750us/step - loss: 12.8089 - val_loss: 12.8988\n",
      "Epoch 136/200\n",
      "6764/6764 [==============================] - 5s 798us/step - loss: 12.7988 - val_loss: 12.9358\n",
      "Epoch 137/200\n",
      "6764/6764 [==============================] - 5s 797us/step - loss: 12.7945 - val_loss: 13.0104\n",
      "Epoch 138/200\n",
      "6764/6764 [==============================] - 5s 788us/step - loss: 12.7820 - val_loss: 12.9027\n",
      "Epoch 139/200\n",
      "6764/6764 [==============================] - 5s 735us/step - loss: 12.7799 - val_loss: 13.0323\n",
      "Epoch 140/200\n",
      "6764/6764 [==============================] - 5s 748us/step - loss: 12.7766 - val_loss: 12.9701\n",
      "Epoch 141/200\n",
      "6764/6764 [==============================] - 5s 787us/step - loss: 12.7757 - val_loss: 12.8823\n",
      "Epoch 142/200\n",
      "6764/6764 [==============================] - 6s 846us/step - loss: 12.7704 - val_loss: 13.0513\n",
      "Epoch 143/200\n",
      "6764/6764 [==============================] - 6s 816us/step - loss: 12.7700 - val_loss: 12.8661\n",
      "Epoch 144/200\n",
      "6764/6764 [==============================] - 5s 763us/step - loss: 12.7642 - val_loss: 12.8980\n",
      "Epoch 145/200\n",
      "6764/6764 [==============================] - 5s 802us/step - loss: 12.7570 - val_loss: 12.8375\n",
      "Epoch 146/200\n",
      "6764/6764 [==============================] - 5s 797us/step - loss: 12.7481 - val_loss: 12.8729\n",
      "Epoch 147/200\n",
      "6764/6764 [==============================] - 5s 794us/step - loss: 12.7454 - val_loss: 12.9782\n",
      "Epoch 148/200\n",
      "6764/6764 [==============================] - 5s 798us/step - loss: 12.7475 - val_loss: 12.8183\n",
      "Epoch 149/200\n",
      "6764/6764 [==============================] - 5s 772us/step - loss: 12.7363 - val_loss: 12.8097\n",
      "Epoch 150/200\n",
      "6764/6764 [==============================] - 5s 759us/step - loss: 12.7373 - val_loss: 12.8684\n",
      "Epoch 151/200\n",
      "6764/6764 [==============================] - 5s 763us/step - loss: 12.7275 - val_loss: 12.8019\n",
      "Epoch 152/200\n",
      "6764/6764 [==============================] - 5s 753us/step - loss: 12.7248 - val_loss: 12.7865\n",
      "Epoch 153/200\n",
      "6764/6764 [==============================] - 5s 781us/step - loss: 12.7214 - val_loss: 12.8920\n",
      "Epoch 154/200\n",
      "6764/6764 [==============================] - 6s 823us/step - loss: 12.7117 - val_loss: 12.7984\n",
      "Epoch 155/200\n",
      "6764/6764 [==============================] - 5s 791us/step - loss: 12.7056 - val_loss: 12.7561\n",
      "Epoch 156/200\n",
      "6764/6764 [==============================] - 5s 807us/step - loss: 12.7054 - val_loss: 12.9308\n",
      "Epoch 157/200\n",
      "6764/6764 [==============================] - 5s 759us/step - loss: 12.7019 - val_loss: 12.8821\n",
      "Epoch 158/200\n",
      "6764/6764 [==============================] - 5s 782us/step - loss: 12.6918 - val_loss: 12.7657\n",
      "Epoch 159/200\n",
      "6764/6764 [==============================] - 6s 843us/step - loss: 12.6906 - val_loss: 12.7815\n",
      "Epoch 160/200\n",
      "6764/6764 [==============================] - 6s 823us/step - loss: 12.6893 - val_loss: 12.7942\n",
      "Epoch 161/200\n",
      "6764/6764 [==============================] - 5s 759us/step - loss: 12.6834 - val_loss: 12.8157\n",
      "Epoch 162/200\n",
      "6764/6764 [==============================] - 5s 757us/step - loss: 12.6831 - val_loss: 12.7861\n",
      "Epoch 163/200\n",
      "6764/6764 [==============================] - 5s 742us/step - loss: 12.6718 - val_loss: 12.7268\n",
      "Epoch 164/200\n",
      "6764/6764 [==============================] - 5s 749us/step - loss: 12.6690 - val_loss: 12.7612\n",
      "Epoch 165/200\n",
      "6764/6764 [==============================] - 5s 798us/step - loss: 12.6688 - val_loss: 12.7416\n",
      "Epoch 166/200\n",
      "6764/6764 [==============================] - 5s 779us/step - loss: 12.6629 - val_loss: 12.8228\n",
      "Epoch 167/200\n",
      "6764/6764 [==============================] - 5s 761us/step - loss: 12.6621 - val_loss: 12.8520\n",
      "Epoch 168/200\n",
      "6764/6764 [==============================] - 5s 751us/step - loss: 12.6606 - val_loss: 12.7646\n",
      "Epoch 169/200\n",
      "6764/6764 [==============================] - 5s 756us/step - loss: 12.6616 - val_loss: 12.8429\n",
      "Epoch 170/200\n",
      "6764/6764 [==============================] - 5s 782us/step - loss: 12.6509 - val_loss: 12.7877\n",
      "Epoch 171/200\n",
      "6764/6764 [==============================] - 5s 805us/step - loss: 12.6474 - val_loss: 12.7367\n",
      "Epoch 172/200\n",
      "6764/6764 [==============================] - 5s 764us/step - loss: 12.6466 - val_loss: 12.7952\n",
      "Epoch 173/200\n",
      "6764/6764 [==============================] - 5s 742us/step - loss: 12.6465 - val_loss: 12.7949\n"
     ]
    }
   ],
   "source": [
    "history = model.fit(X_train, y_train, \n",
    "                    validation_data=(X_test,y_test), \n",
    "                    batch_size=32, \n",
    "                    epochs=200, callbacks=[keras.callbacks.EarlyStopping(\n",
    "                                                        monitor='val_loss',\n",
    "                                                        min_delta=0.00001,\n",
    "                                                        patience=10,\n",
    "                                                        baseline=None,\n",
    "                                                        restore_best_weights=True\n",
    "                                                    )],\n",
    "                    shuffle=True\n",
    ")\n"
   ]
  },
  {
   "cell_type": "code",
   "execution_count": 79,
   "id": "ee32dc39",
   "metadata": {},
   "outputs": [
    {
     "data": {
      "image/png": "[encoded data removed]",
      "text/plain": [
       "<Figure size 576x360 with 1 Axes>"
      ]
     },
     "metadata": {
      "needs_background": "light"
     },
     "output_type": "display_data"
    }
   ],
   "source": [
    "pd.DataFrame(history.history).plot(figsize=(8,5))\n",
    "plt.show()\n"
   ]
  },
  {
   "cell_type": "code",
   "execution_count": 81,
   "id": "d9c6ce96-a1ce-4a10-b2a9-742c379f72b6",
   "metadata": {},
   "outputs": [
    {
     "name": "stdout",
     "output_type": "stream",
     "text": [
      "INFO:tensorflow:Assets written to: solar_wind_model_best/assets\n"
     ]
    }
   ],
   "source": [
    "model.save(\"solar_wind_model_best\")\n"
   ]
  },
  {
   "cell_type": "code",
   "execution_count": 13,
   "id": "f039479b",
   "metadata": {},
   "outputs": [],
   "source": [
    "reconstructed_model = keras.models.load_model(\"solar_wind_model_best\")"
   ]
  },
  {
   "cell_type": "code",
   "execution_count": 14,
   "id": "c400d238",
   "metadata": {},
   "outputs": [
    {
     "name": "stdout",
     "output_type": "stream",
     "text": [
      "Model: \"sequential_9\"\n",
      "_________________________________________________________________\n",
      " Layer (type)                Output Shape              Param #   \n",
      "=================================================================\n",
      " normalization_9 (Normalizat  (None, 11)               23        \n",
      " ion)                                                            \n",
      "                                                                 \n",
      " dense_45 (Dense)            (None, 16)                192       \n",
      "                                                                 \n",
      " dense_46 (Dense)            (None, 32)                544       \n",
      "                                                                 \n",
      " dense_47 (Dense)            (None, 16)                528       \n",
      "                                                                 \n",
      " dense_48 (Dense)            (None, 8)                 136       \n",
      "                                                                 \n",
      " dense_49 (Dense)            (None, 1)                 9         \n",
      "                                                                 \n",
      "=================================================================\n",
      "Total params: 1,432\n",
      "Trainable params: 1,409\n",
      "Non-trainable params: 23\n",
      "_________________________________________________________________\n"
     ]
    }
   ],
   "source": [
    "reconstructed_model.summary()"
   ]
  },
  {
   "cell_type": "markdown",
   "id": "ae651bb4",
   "metadata": {},
   "source": [
    "##  Prediction visualization "
   ]
  },
  {
   "cell_type": "code",
   "execution_count": 22,
   "id": "a94e7c04",
   "metadata": {},
   "outputs": [],
   "source": [
    "predictions = reconstructed_model.predict(scaler.transform(X))"
   ]
  },
  {
   "cell_type": "code",
   "execution_count": 23,
   "id": "d8dabf49",
   "metadata": {},
   "outputs": [],
   "source": [
    "data[\"prediction\"] = predictions"
   ]
  },
  {
   "cell_type": "code",
   "execution_count": 24,
   "id": "602d6253",
   "metadata": {},
   "outputs": [
    {
     "data": {
      "text/plain": [
       "<AxesSubplot:xlabel='time'>"
      ]
     },
     "execution_count": 24,
     "metadata": {},
     "output_type": "execute_result"
    },
    {
     "data": {
      "image/png": "[encoded data removed]",
      "text/plain": [
       "<Figure size 1152x864 with 1 Axes>"
      ]
     },
     "metadata": {},
     "output_type": "display_data"
    }
   ],
   "source": [
    "plt.style.use('dark_background')\n",
    "data[[\"proton_speed\",\"prediction\"]].plot(figsize=(16,12))"
   ]
  }
 ],
 "metadata": {
  "@webio": {
   "lastCommId": null,
   "lastKernelId": null
  },
  "kernelspec": {
   "display_name": "py38",
   "language": "python",
   "name": "py38"
  },
  "language_info": {
   "codemirror_mode": {
    "name": "ipython",
    "version": 3
   },
   "file_extension": ".py",
   "mimetype": "text/x-python",
   "name": "python",
   "nbconvert_exporter": "python",
   "pygments_lexer": "ipython3",
   "version": "3.8.12"
  }
 },
 "nbformat": 4,
 "nbformat_minor": 5
}
